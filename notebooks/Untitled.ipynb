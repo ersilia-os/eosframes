{
 "cells": [
  {
   "cell_type": "code",
   "execution_count": null,
   "id": "057af75b-98e4-4fba-be3e-2a1cbe3eacbb",
   "metadata": {},
   "outputs": [],
   "source": [
    "from data_frames import Scale\n",
    "\n",
    "mordred_scale = scale(("
   ]
  }
 ],
 "metadata": {
  "kernelspec": {
   "display_name": "Python (ersilia)",
   "language": "python",
   "name": "ersilia"
  },
  "language_info": {
   "codemirror_mode": {
    "name": "ipython",
    "version": 3
   },
   "file_extension": ".py",
   "mimetype": "text/x-python",
   "name": "python",
   "nbconvert_exporter": "python",
   "pygments_lexer": "ipython3",
   "version": "3.12.11"
  }
 },
 "nbformat": 4,
 "nbformat_minor": 5
}
